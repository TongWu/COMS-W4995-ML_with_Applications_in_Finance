{
 "cells": [
  {
   "cell_type": "markdown",
   "metadata": {},
   "source": [
    "\n"
   ]
  },
  {
   "cell_type": "markdown",
   "metadata": {},
   "source": [
    "I pledge on my honor that I have not given or received any unauthorized assistance on this assignment/examination. I further pledge that I have not copied any material from a book, article, the Internet or any other source except where I have expressly cited the source.\n",
    "\n",
    "By filling out the following fields, you are signing this pledge. No assignment will get credit without being pledged.\n",
    "\n",
    "Name: Tong Wu\n",
    "\n",
    "ID: tw2906\n",
    "\n",
    "Date: 05/31/2023\n",
    "\n",
    "\n",
    "# Instructions\n",
    "In this assignment, you should use this Jupyter notebook to answer the questions below. Simply type your code into embedded chunks. \n",
    "\n",
    "For all the programming homeworks, you should submit two UNCOMPRESSED files:\n",
    "1). A report as a Jupyter notebook (extension ipynb) organized by questions, with the proper explanation for every answer\n",
    "2). The same Jupyter notebook saved as an HTML or pdf file. \n",
    "\n",
    "From the file menu of the Jupyter notebook, you can download the Jupyter notebook and the same report as a HTML or pdf file: File --> Download as:\n",
    "\n",
    "Failure to include the report as a Jupyter notebook or its pdf/html version will result in a deduction of 50% and 20% respectively. If you want to improve your homework, you can resubmit it until the deadline."
   ]
  },
  {
   "cell_type": "markdown",
   "metadata": {},
   "source": [
    "# Data imputation:\n",
    "\n",
    "\n",
    "## 1. Download the dataset credit-data-post-import.csv, randomly split your dataset in two datasets: training (75% observations) and testing (25% observations). We'll use the training set to calibrate our model and then use the test set to evaluate how effective it is.\n"
   ]
  },
  {
   "cell_type": "code",
   "execution_count": 70,
   "metadata": {},
   "outputs": [],
   "source": [
    "import pandas as pd\n",
    "from sklearn.model_selection import train_test_split\n",
    "\n",
    "data = pd.read_csv('./credit-data-post-import.csv')\n",
    "## Split the dataset randomly into train(75%) and test(25%) with seed 4995\n",
    "train_data, test_data = train_test_split(data, test_size=0.25, random_state=4995)"
   ]
  },
  {
   "cell_type": "code",
   "execution_count": 83,
   "metadata": {},
   "outputs": [
    {
     "name": "stdout",
     "output_type": "stream",
     "text": [
      "<class 'pandas.core.frame.DataFrame'>\n",
      "Int64Index: 112500 entries, 121454 to 80027\n",
      "Data columns (total 11 columns):\n",
      " #   Column                                       Non-Null Count   Dtype  \n",
      "---  ------                                       --------------   -----  \n",
      " 0   serious_dlqin2yrs                            112500 non-null  int64  \n",
      " 1   revolving_utilization_of_unsecured_lines     112500 non-null  float64\n",
      " 2   age                                          112500 non-null  int64  \n",
      " 3   number_of_time30-59_days_past_due_not_worse  112500 non-null  int64  \n",
      " 4   debt_ratio                                   112500 non-null  float64\n",
      " 5   monthly_income                               90231 non-null   float64\n",
      " 6   number_of_open_credit_lines_and_loans        112500 non-null  int64  \n",
      " 7   number_of_times90_days_late                  112500 non-null  int64  \n",
      " 8   number_real_estate_loans_or_lines            112500 non-null  int64  \n",
      " 9   number_of_time60-89_days_past_due_not_worse  112500 non-null  int64  \n",
      " 10  number_of_dependents                         112500 non-null  float64\n",
      "dtypes: float64(4), int64(7)\n",
      "memory usage: 10.3 MB\n"
     ]
    }
   ],
   "source": [
    "## Show the basic information of dataset and its attributes\n",
    "train_data.info()"
   ]
  },
  {
   "cell_type": "code",
   "execution_count": 82,
   "metadata": {},
   "outputs": [
    {
     "name": "stdout",
     "output_type": "stream",
     "text": [
      "<class 'pandas.core.frame.DataFrame'>\n",
      "Int64Index: 37500 entries, 56958 to 124795\n",
      "Data columns (total 11 columns):\n",
      " #   Column                                       Non-Null Count  Dtype  \n",
      "---  ------                                       --------------  -----  \n",
      " 0   serious_dlqin2yrs                            37500 non-null  int64  \n",
      " 1   revolving_utilization_of_unsecured_lines     37500 non-null  float64\n",
      " 2   age                                          37500 non-null  int64  \n",
      " 3   number_of_time30-59_days_past_due_not_worse  37500 non-null  int64  \n",
      " 4   debt_ratio                                   37500 non-null  float64\n",
      " 5   monthly_income                               30038 non-null  float64\n",
      " 6   number_of_open_credit_lines_and_loans        37500 non-null  int64  \n",
      " 7   number_of_times90_days_late                  37500 non-null  int64  \n",
      " 8   number_real_estate_loans_or_lines            37500 non-null  int64  \n",
      " 9   number_of_time60-89_days_past_due_not_worse  37500 non-null  int64  \n",
      " 10  number_of_dependents                         37500 non-null  float64\n",
      "dtypes: float64(4), int64(7)\n",
      "memory usage: 3.4 MB\n"
     ]
    }
   ],
   "source": [
    "test_data.info()"
   ]
  },
  {
   "cell_type": "markdown",
   "metadata": {},
   "source": [
    "## 2. Split our training and test data into 2 groups: data containing nulls and data not containing nulls on the monthly_income variable. Using only the training data not containing nulls, train on the monthly_income variable and make 'predictions' on the null data of the training and test dataset (each one independently) to impute monthly_income using a regression algorithm with the variables 'number_real_estate_loans_or_lines' and 'number_of_open_credit_lines_and_loans'. As a result, generate a new training and test datasets with data not containing nulls (as the null values were substituted by the predictions) and save them in the csv files: credit-data-trainingset.csv and credit-data-testset.csv. For this first part, the report can simply compare the number of observations of each dataset (train and test) before and after the correction of null values.\n"
   ]
  },
  {
   "cell_type": "code",
   "execution_count": 73,
   "metadata": {},
   "outputs": [],
   "source": [
    "# Split train and test data into 2 groups #\n",
    "## Data containing nulls\n",
    "train_null = train_data[train_data['monthly_income'].isnull()]\n",
    "test_null = test_data[test_data['monthly_income'].isnull()]\n",
    "## Data not containing nulls\n",
    "train_notnull = train_data[train_data['monthly_income'].notnull()]\n",
    "test_notnull = test_data[test_data['monthly_income'].notnull()]"
   ]
  },
  {
   "cell_type": "code",
   "execution_count": 74,
   "metadata": {},
   "outputs": [],
   "source": [
    "from sklearn.ensemble import RandomForestRegressor\n",
    "\n",
    "# Train the Random Forest Model #\n",
    "## Create Random Forest model\n",
    "model = RandomForestRegressor(n_estimators=10000, random_state=4995)\n",
    "## Split training dataset with no null value into X and Y sub-set\n",
    "X_train_notnull = train_notnull[['number_real_estate_loans_or_lines', 'number_of_open_credit_lines_and_loans']]\n",
    "Y_train_notnull = train_notnull['monthly_income']\n",
    "## Split training dataset with null, test dataset with null into X and Y sub-set\n",
    "X_train_null = train_null[['number_real_estate_loans_or_lines', 'number_of_open_credit_lines_and_loans']]\n",
    "Y_train_null = train_null['monthly_income']\n",
    "X_test_null = test_null[['number_real_estate_loans_or_lines', 'number_of_open_credit_lines_and_loans']]\n",
    "Y_test_null = test_null['monthly_income']"
   ]
  },
  {
   "cell_type": "code",
   "execution_count": 75,
   "metadata": {},
   "outputs": [
    {
     "data": {
      "text/plain": [
       "RandomForestRegressor(n_estimators=10000, random_state=4995)"
      ]
     },
     "execution_count": 75,
     "metadata": {},
     "output_type": "execute_result"
    }
   ],
   "source": [
    "## Train the model using train_notnull\n",
    "model.fit(X_train_notnull, Y_train_notnull)"
   ]
  },
  {
   "cell_type": "code",
   "execution_count": 76,
   "metadata": {},
   "outputs": [
    {
     "data": {
      "text/plain": [
       "array([7058.96886314, 5216.38563413, 4886.89181346, ..., 6386.99713484,\n",
       "       6142.77002999, 6558.58959669])"
      ]
     },
     "execution_count": 76,
     "metadata": {},
     "output_type": "execute_result"
    }
   ],
   "source": [
    "## Use the trained model to predict the monthly income in dataset train_null\n",
    "y_pred = model.predict(X_train_null)\n",
    "y_pred"
   ]
  },
  {
   "cell_type": "code",
   "execution_count": 77,
   "metadata": {},
   "outputs": [
    {
     "name": "stderr",
     "output_type": "stream",
     "text": [
      "C:\\Users\\TedWu\\AppData\\Local\\Temp\\ipykernel_31380\\800200633.py:2: SettingWithCopyWarning: \n",
      "A value is trying to be set on a copy of a slice from a DataFrame.\n",
      "Try using .loc[row_indexer,col_indexer] = value instead\n",
      "\n",
      "See the caveats in the documentation: https://pandas.pydata.org/pandas-docs/stable/user_guide/indexing.html#returning-a-view-versus-a-copy\n",
      "  train_null['monthly_income'] = y_pred\n"
     ]
    }
   ],
   "source": [
    "## Move the predicted value into train_null\n",
    "train_null['monthly_income'] = y_pred\n",
    "## Concat the train_null dataset with train_notnull dataset to form a full train dataset with no null values\n",
    "train_nonull = pd.concat([train_notnull, train_null])\n",
    "## Output the dataframe into csv file\n",
    "train_nonull.to_csv('credit-data-trainingset.csv')"
   ]
  },
  {
   "cell_type": "code",
   "execution_count": 86,
   "metadata": {},
   "outputs": [
    {
     "data": {
      "text/html": [
       "<div>\n",
       "<style scoped>\n",
       "    .dataframe tbody tr th:only-of-type {\n",
       "        vertical-align: middle;\n",
       "    }\n",
       "\n",
       "    .dataframe tbody tr th {\n",
       "        vertical-align: top;\n",
       "    }\n",
       "\n",
       "    .dataframe thead th {\n",
       "        text-align: right;\n",
       "    }\n",
       "</style>\n",
       "<table border=\"1\" class=\"dataframe\">\n",
       "  <thead>\n",
       "    <tr style=\"text-align: right;\">\n",
       "      <th></th>\n",
       "      <th>serious_dlqin2yrs</th>\n",
       "      <th>revolving_utilization_of_unsecured_lines</th>\n",
       "      <th>age</th>\n",
       "      <th>number_of_time30-59_days_past_due_not_worse</th>\n",
       "      <th>debt_ratio</th>\n",
       "      <th>monthly_income</th>\n",
       "      <th>number_of_open_credit_lines_and_loans</th>\n",
       "      <th>number_of_times90_days_late</th>\n",
       "      <th>number_real_estate_loans_or_lines</th>\n",
       "      <th>number_of_time60-89_days_past_due_not_worse</th>\n",
       "      <th>number_of_dependents</th>\n",
       "    </tr>\n",
       "  </thead>\n",
       "  <tbody>\n",
       "    <tr>\n",
       "      <th>96315</th>\n",
       "      <td>0</td>\n",
       "      <td>0.207579</td>\n",
       "      <td>53</td>\n",
       "      <td>0</td>\n",
       "      <td>0.397088</td>\n",
       "      <td>12500.000000</td>\n",
       "      <td>9</td>\n",
       "      <td>0</td>\n",
       "      <td>3</td>\n",
       "      <td>0</td>\n",
       "      <td>2.0</td>\n",
       "    </tr>\n",
       "    <tr>\n",
       "      <th>39385</th>\n",
       "      <td>0</td>\n",
       "      <td>0.295283</td>\n",
       "      <td>55</td>\n",
       "      <td>0</td>\n",
       "      <td>0.223342</td>\n",
       "      <td>12500.000000</td>\n",
       "      <td>6</td>\n",
       "      <td>0</td>\n",
       "      <td>2</td>\n",
       "      <td>0</td>\n",
       "      <td>3.0</td>\n",
       "    </tr>\n",
       "    <tr>\n",
       "      <th>34349</th>\n",
       "      <td>0</td>\n",
       "      <td>0.940513</td>\n",
       "      <td>41</td>\n",
       "      <td>2</td>\n",
       "      <td>0.372414</td>\n",
       "      <td>16000.000000</td>\n",
       "      <td>8</td>\n",
       "      <td>0</td>\n",
       "      <td>1</td>\n",
       "      <td>2</td>\n",
       "      <td>4.0</td>\n",
       "    </tr>\n",
       "    <tr>\n",
       "      <th>117183</th>\n",
       "      <td>0</td>\n",
       "      <td>0.539597</td>\n",
       "      <td>38</td>\n",
       "      <td>0</td>\n",
       "      <td>0.632761</td>\n",
       "      <td>11580.000000</td>\n",
       "      <td>18</td>\n",
       "      <td>0</td>\n",
       "      <td>4</td>\n",
       "      <td>0</td>\n",
       "      <td>3.0</td>\n",
       "    </tr>\n",
       "    <tr>\n",
       "      <th>147142</th>\n",
       "      <td>0</td>\n",
       "      <td>0.035383</td>\n",
       "      <td>44</td>\n",
       "      <td>0</td>\n",
       "      <td>0.287393</td>\n",
       "      <td>12000.000000</td>\n",
       "      <td>6</td>\n",
       "      <td>0</td>\n",
       "      <td>1</td>\n",
       "      <td>0</td>\n",
       "      <td>2.0</td>\n",
       "    </tr>\n",
       "    <tr>\n",
       "      <th>...</th>\n",
       "      <td>...</td>\n",
       "      <td>...</td>\n",
       "      <td>...</td>\n",
       "      <td>...</td>\n",
       "      <td>...</td>\n",
       "      <td>...</td>\n",
       "      <td>...</td>\n",
       "      <td>...</td>\n",
       "      <td>...</td>\n",
       "      <td>...</td>\n",
       "      <td>...</td>\n",
       "    </tr>\n",
       "    <tr>\n",
       "      <th>120600</th>\n",
       "      <td>0</td>\n",
       "      <td>0.177224</td>\n",
       "      <td>66</td>\n",
       "      <td>0</td>\n",
       "      <td>1774.000000</td>\n",
       "      <td>6531.406035</td>\n",
       "      <td>7</td>\n",
       "      <td>0</td>\n",
       "      <td>1</td>\n",
       "      <td>0</td>\n",
       "      <td>0.0</td>\n",
       "    </tr>\n",
       "    <tr>\n",
       "      <th>112966</th>\n",
       "      <td>0</td>\n",
       "      <td>0.010721</td>\n",
       "      <td>65</td>\n",
       "      <td>0</td>\n",
       "      <td>95.000000</td>\n",
       "      <td>5202.855701</td>\n",
       "      <td>7</td>\n",
       "      <td>0</td>\n",
       "      <td>0</td>\n",
       "      <td>0</td>\n",
       "      <td>0.0</td>\n",
       "    </tr>\n",
       "    <tr>\n",
       "      <th>347</th>\n",
       "      <td>0</td>\n",
       "      <td>0.049529</td>\n",
       "      <td>61</td>\n",
       "      <td>0</td>\n",
       "      <td>542.000000</td>\n",
       "      <td>6386.997135</td>\n",
       "      <td>15</td>\n",
       "      <td>0</td>\n",
       "      <td>0</td>\n",
       "      <td>0</td>\n",
       "      <td>0.0</td>\n",
       "    </tr>\n",
       "    <tr>\n",
       "      <th>28209</th>\n",
       "      <td>0</td>\n",
       "      <td>0.035054</td>\n",
       "      <td>53</td>\n",
       "      <td>0</td>\n",
       "      <td>1543.000000</td>\n",
       "      <td>6142.770030</td>\n",
       "      <td>5</td>\n",
       "      <td>0</td>\n",
       "      <td>1</td>\n",
       "      <td>0</td>\n",
       "      <td>0.0</td>\n",
       "    </tr>\n",
       "    <tr>\n",
       "      <th>2469</th>\n",
       "      <td>0</td>\n",
       "      <td>1.000000</td>\n",
       "      <td>55</td>\n",
       "      <td>0</td>\n",
       "      <td>1242.000000</td>\n",
       "      <td>6558.589597</td>\n",
       "      <td>6</td>\n",
       "      <td>0</td>\n",
       "      <td>1</td>\n",
       "      <td>0</td>\n",
       "      <td>1.0</td>\n",
       "    </tr>\n",
       "  </tbody>\n",
       "</table>\n",
       "<p>112500 rows × 11 columns</p>\n",
       "</div>"
      ],
      "text/plain": [
       "        serious_dlqin2yrs  revolving_utilization_of_unsecured_lines  age  \\\n",
       "96315                   0                                  0.207579   53   \n",
       "39385                   0                                  0.295283   55   \n",
       "34349                   0                                  0.940513   41   \n",
       "117183                  0                                  0.539597   38   \n",
       "147142                  0                                  0.035383   44   \n",
       "...                   ...                                       ...  ...   \n",
       "120600                  0                                  0.177224   66   \n",
       "112966                  0                                  0.010721   65   \n",
       "347                     0                                  0.049529   61   \n",
       "28209                   0                                  0.035054   53   \n",
       "2469                    0                                  1.000000   55   \n",
       "\n",
       "        number_of_time30-59_days_past_due_not_worse   debt_ratio  \\\n",
       "96315                                             0     0.397088   \n",
       "39385                                             0     0.223342   \n",
       "34349                                             2     0.372414   \n",
       "117183                                            0     0.632761   \n",
       "147142                                            0     0.287393   \n",
       "...                                             ...          ...   \n",
       "120600                                            0  1774.000000   \n",
       "112966                                            0    95.000000   \n",
       "347                                               0   542.000000   \n",
       "28209                                             0  1543.000000   \n",
       "2469                                              0  1242.000000   \n",
       "\n",
       "        monthly_income  number_of_open_credit_lines_and_loans  \\\n",
       "96315     12500.000000                                      9   \n",
       "39385     12500.000000                                      6   \n",
       "34349     16000.000000                                      8   \n",
       "117183    11580.000000                                     18   \n",
       "147142    12000.000000                                      6   \n",
       "...                ...                                    ...   \n",
       "120600     6531.406035                                      7   \n",
       "112966     5202.855701                                      7   \n",
       "347        6386.997135                                     15   \n",
       "28209      6142.770030                                      5   \n",
       "2469       6558.589597                                      6   \n",
       "\n",
       "        number_of_times90_days_late  number_real_estate_loans_or_lines  \\\n",
       "96315                             0                                  3   \n",
       "39385                             0                                  2   \n",
       "34349                             0                                  1   \n",
       "117183                            0                                  4   \n",
       "147142                            0                                  1   \n",
       "...                             ...                                ...   \n",
       "120600                            0                                  1   \n",
       "112966                            0                                  0   \n",
       "347                               0                                  0   \n",
       "28209                             0                                  1   \n",
       "2469                              0                                  1   \n",
       "\n",
       "        number_of_time60-89_days_past_due_not_worse  number_of_dependents  \n",
       "96315                                             0                   2.0  \n",
       "39385                                             0                   3.0  \n",
       "34349                                             2                   4.0  \n",
       "117183                                            0                   3.0  \n",
       "147142                                            0                   2.0  \n",
       "...                                             ...                   ...  \n",
       "120600                                            0                   0.0  \n",
       "112966                                            0                   0.0  \n",
       "347                                               0                   0.0  \n",
       "28209                                             0                   0.0  \n",
       "2469                                              0                   1.0  \n",
       "\n",
       "[112500 rows x 11 columns]"
      ]
     },
     "execution_count": 86,
     "metadata": {},
     "output_type": "execute_result"
    }
   ],
   "source": [
    "## Visualise the filled train dataset\n",
    "train_nonull"
   ]
  },
  {
   "cell_type": "code",
   "execution_count": 78,
   "metadata": {},
   "outputs": [
    {
     "name": "stderr",
     "output_type": "stream",
     "text": [
      "C:\\Users\\TedWu\\AppData\\Local\\Temp\\ipykernel_31380\\2792804226.py:4: SettingWithCopyWarning: \n",
      "A value is trying to be set on a copy of a slice from a DataFrame.\n",
      "Try using .loc[row_indexer,col_indexer] = value instead\n",
      "\n",
      "See the caveats in the documentation: https://pandas.pydata.org/pandas-docs/stable/user_guide/indexing.html#returning-a-view-versus-a-copy\n",
      "  test_null['monthly_income'] = y_pred1\n"
     ]
    }
   ],
   "source": [
    "## Repeat the process, predict test_null and output the concated dataset\n",
    "y_pred1 = model.predict(X_test_null)\n",
    "Y_test_null = Y_test_null.to_frame()\n",
    "test_null['monthly_income'] = y_pred1\n",
    "test_nonull = pd.concat([test_notnull, test_null])\n",
    "test_nonull.to_csv('credit-data-testset.csv')"
   ]
  },
  {
   "cell_type": "code",
   "execution_count": 87,
   "metadata": {},
   "outputs": [
    {
     "data": {
      "text/html": [
       "<div>\n",
       "<style scoped>\n",
       "    .dataframe tbody tr th:only-of-type {\n",
       "        vertical-align: middle;\n",
       "    }\n",
       "\n",
       "    .dataframe tbody tr th {\n",
       "        vertical-align: top;\n",
       "    }\n",
       "\n",
       "    .dataframe thead th {\n",
       "        text-align: right;\n",
       "    }\n",
       "</style>\n",
       "<table border=\"1\" class=\"dataframe\">\n",
       "  <thead>\n",
       "    <tr style=\"text-align: right;\">\n",
       "      <th></th>\n",
       "      <th>serious_dlqin2yrs</th>\n",
       "      <th>revolving_utilization_of_unsecured_lines</th>\n",
       "      <th>age</th>\n",
       "      <th>number_of_time30-59_days_past_due_not_worse</th>\n",
       "      <th>debt_ratio</th>\n",
       "      <th>monthly_income</th>\n",
       "      <th>number_of_open_credit_lines_and_loans</th>\n",
       "      <th>number_of_times90_days_late</th>\n",
       "      <th>number_real_estate_loans_or_lines</th>\n",
       "      <th>number_of_time60-89_days_past_due_not_worse</th>\n",
       "      <th>number_of_dependents</th>\n",
       "    </tr>\n",
       "  </thead>\n",
       "  <tbody>\n",
       "    <tr>\n",
       "      <th>56958</th>\n",
       "      <td>1</td>\n",
       "      <td>0.956757</td>\n",
       "      <td>49</td>\n",
       "      <td>1</td>\n",
       "      <td>2.121255</td>\n",
       "      <td>700.000000</td>\n",
       "      <td>4</td>\n",
       "      <td>1</td>\n",
       "      <td>2</td>\n",
       "      <td>0</td>\n",
       "      <td>1.0</td>\n",
       "    </tr>\n",
       "    <tr>\n",
       "      <th>68156</th>\n",
       "      <td>0</td>\n",
       "      <td>0.000000</td>\n",
       "      <td>27</td>\n",
       "      <td>0</td>\n",
       "      <td>0.000000</td>\n",
       "      <td>0.000000</td>\n",
       "      <td>1</td>\n",
       "      <td>0</td>\n",
       "      <td>0</td>\n",
       "      <td>0</td>\n",
       "      <td>0.0</td>\n",
       "    </tr>\n",
       "    <tr>\n",
       "      <th>117553</th>\n",
       "      <td>0</td>\n",
       "      <td>0.137021</td>\n",
       "      <td>40</td>\n",
       "      <td>0</td>\n",
       "      <td>0.200371</td>\n",
       "      <td>23750.000000</td>\n",
       "      <td>12</td>\n",
       "      <td>0</td>\n",
       "      <td>1</td>\n",
       "      <td>0</td>\n",
       "      <td>3.0</td>\n",
       "    </tr>\n",
       "    <tr>\n",
       "      <th>27108</th>\n",
       "      <td>0</td>\n",
       "      <td>0.082009</td>\n",
       "      <td>49</td>\n",
       "      <td>0</td>\n",
       "      <td>0.424486</td>\n",
       "      <td>11083.000000</td>\n",
       "      <td>14</td>\n",
       "      <td>0</td>\n",
       "      <td>2</td>\n",
       "      <td>0</td>\n",
       "      <td>0.0</td>\n",
       "    </tr>\n",
       "    <tr>\n",
       "      <th>82089</th>\n",
       "      <td>0</td>\n",
       "      <td>0.913709</td>\n",
       "      <td>79</td>\n",
       "      <td>0</td>\n",
       "      <td>0.236353</td>\n",
       "      <td>3278.000000</td>\n",
       "      <td>4</td>\n",
       "      <td>1</td>\n",
       "      <td>0</td>\n",
       "      <td>0</td>\n",
       "      <td>0.0</td>\n",
       "    </tr>\n",
       "    <tr>\n",
       "      <th>...</th>\n",
       "      <td>...</td>\n",
       "      <td>...</td>\n",
       "      <td>...</td>\n",
       "      <td>...</td>\n",
       "      <td>...</td>\n",
       "      <td>...</td>\n",
       "      <td>...</td>\n",
       "      <td>...</td>\n",
       "      <td>...</td>\n",
       "      <td>...</td>\n",
       "      <td>...</td>\n",
       "    </tr>\n",
       "    <tr>\n",
       "      <th>4675</th>\n",
       "      <td>0</td>\n",
       "      <td>0.018795</td>\n",
       "      <td>71</td>\n",
       "      <td>0</td>\n",
       "      <td>113.000000</td>\n",
       "      <td>4707.621813</td>\n",
       "      <td>5</td>\n",
       "      <td>0</td>\n",
       "      <td>0</td>\n",
       "      <td>0</td>\n",
       "      <td>0.0</td>\n",
       "    </tr>\n",
       "    <tr>\n",
       "      <th>129110</th>\n",
       "      <td>0</td>\n",
       "      <td>0.033048</td>\n",
       "      <td>46</td>\n",
       "      <td>0</td>\n",
       "      <td>1451.000000</td>\n",
       "      <td>7595.686083</td>\n",
       "      <td>6</td>\n",
       "      <td>0</td>\n",
       "      <td>2</td>\n",
       "      <td>0</td>\n",
       "      <td>2.0</td>\n",
       "    </tr>\n",
       "    <tr>\n",
       "      <th>132218</th>\n",
       "      <td>0</td>\n",
       "      <td>0.033030</td>\n",
       "      <td>38</td>\n",
       "      <td>0</td>\n",
       "      <td>3183.000000</td>\n",
       "      <td>6558.589597</td>\n",
       "      <td>6</td>\n",
       "      <td>0</td>\n",
       "      <td>1</td>\n",
       "      <td>0</td>\n",
       "      <td>0.0</td>\n",
       "    </tr>\n",
       "    <tr>\n",
       "      <th>75414</th>\n",
       "      <td>0</td>\n",
       "      <td>0.138374</td>\n",
       "      <td>49</td>\n",
       "      <td>0</td>\n",
       "      <td>2162.000000</td>\n",
       "      <td>7595.686083</td>\n",
       "      <td>6</td>\n",
       "      <td>0</td>\n",
       "      <td>2</td>\n",
       "      <td>0</td>\n",
       "      <td>0.0</td>\n",
       "    </tr>\n",
       "    <tr>\n",
       "      <th>111909</th>\n",
       "      <td>0</td>\n",
       "      <td>0.022051</td>\n",
       "      <td>59</td>\n",
       "      <td>0</td>\n",
       "      <td>12.000000</td>\n",
       "      <td>4886.891813</td>\n",
       "      <td>6</td>\n",
       "      <td>0</td>\n",
       "      <td>0</td>\n",
       "      <td>0</td>\n",
       "      <td>0.0</td>\n",
       "    </tr>\n",
       "  </tbody>\n",
       "</table>\n",
       "<p>37500 rows × 11 columns</p>\n",
       "</div>"
      ],
      "text/plain": [
       "        serious_dlqin2yrs  revolving_utilization_of_unsecured_lines  age  \\\n",
       "56958                   1                                  0.956757   49   \n",
       "68156                   0                                  0.000000   27   \n",
       "117553                  0                                  0.137021   40   \n",
       "27108                   0                                  0.082009   49   \n",
       "82089                   0                                  0.913709   79   \n",
       "...                   ...                                       ...  ...   \n",
       "4675                    0                                  0.018795   71   \n",
       "129110                  0                                  0.033048   46   \n",
       "132218                  0                                  0.033030   38   \n",
       "75414                   0                                  0.138374   49   \n",
       "111909                  0                                  0.022051   59   \n",
       "\n",
       "        number_of_time30-59_days_past_due_not_worse   debt_ratio  \\\n",
       "56958                                             1     2.121255   \n",
       "68156                                             0     0.000000   \n",
       "117553                                            0     0.200371   \n",
       "27108                                             0     0.424486   \n",
       "82089                                             0     0.236353   \n",
       "...                                             ...          ...   \n",
       "4675                                              0   113.000000   \n",
       "129110                                            0  1451.000000   \n",
       "132218                                            0  3183.000000   \n",
       "75414                                             0  2162.000000   \n",
       "111909                                            0    12.000000   \n",
       "\n",
       "        monthly_income  number_of_open_credit_lines_and_loans  \\\n",
       "56958       700.000000                                      4   \n",
       "68156         0.000000                                      1   \n",
       "117553    23750.000000                                     12   \n",
       "27108     11083.000000                                     14   \n",
       "82089      3278.000000                                      4   \n",
       "...                ...                                    ...   \n",
       "4675       4707.621813                                      5   \n",
       "129110     7595.686083                                      6   \n",
       "132218     6558.589597                                      6   \n",
       "75414      7595.686083                                      6   \n",
       "111909     4886.891813                                      6   \n",
       "\n",
       "        number_of_times90_days_late  number_real_estate_loans_or_lines  \\\n",
       "56958                             1                                  2   \n",
       "68156                             0                                  0   \n",
       "117553                            0                                  1   \n",
       "27108                             0                                  2   \n",
       "82089                             1                                  0   \n",
       "...                             ...                                ...   \n",
       "4675                              0                                  0   \n",
       "129110                            0                                  2   \n",
       "132218                            0                                  1   \n",
       "75414                             0                                  2   \n",
       "111909                            0                                  0   \n",
       "\n",
       "        number_of_time60-89_days_past_due_not_worse  number_of_dependents  \n",
       "56958                                             0                   1.0  \n",
       "68156                                             0                   0.0  \n",
       "117553                                            0                   3.0  \n",
       "27108                                             0                   0.0  \n",
       "82089                                             0                   0.0  \n",
       "...                                             ...                   ...  \n",
       "4675                                              0                   0.0  \n",
       "129110                                            0                   2.0  \n",
       "132218                                            0                   0.0  \n",
       "75414                                             0                   0.0  \n",
       "111909                                            0                   0.0  \n",
       "\n",
       "[37500 rows x 11 columns]"
      ]
     },
     "execution_count": 87,
     "metadata": {},
     "output_type": "execute_result"
    }
   ],
   "source": [
    "## Visualise the filled test dataset\n",
    "test_nonull"
   ]
  },
  {
   "cell_type": "markdown",
   "metadata": {},
   "source": [
    "## Report for Data Imputation"
   ]
  },
  {
   "cell_type": "code",
   "execution_count": 84,
   "metadata": {},
   "outputs": [
    {
     "name": "stdout",
     "output_type": "stream",
     "text": [
      "<class 'pandas.core.frame.DataFrame'>\n",
      "Int64Index: 112500 entries, 96315 to 2469\n",
      "Data columns (total 11 columns):\n",
      " #   Column                                       Non-Null Count   Dtype  \n",
      "---  ------                                       --------------   -----  \n",
      " 0   serious_dlqin2yrs                            112500 non-null  int64  \n",
      " 1   revolving_utilization_of_unsecured_lines     112500 non-null  float64\n",
      " 2   age                                          112500 non-null  int64  \n",
      " 3   number_of_time30-59_days_past_due_not_worse  112500 non-null  int64  \n",
      " 4   debt_ratio                                   112500 non-null  float64\n",
      " 5   monthly_income                               112500 non-null  float64\n",
      " 6   number_of_open_credit_lines_and_loans        112500 non-null  int64  \n",
      " 7   number_of_times90_days_late                  112500 non-null  int64  \n",
      " 8   number_real_estate_loans_or_lines            112500 non-null  int64  \n",
      " 9   number_of_time60-89_days_past_due_not_worse  112500 non-null  int64  \n",
      " 10  number_of_dependents                         112500 non-null  float64\n",
      "dtypes: float64(4), int64(7)\n",
      "memory usage: 10.3 MB\n"
     ]
    }
   ],
   "source": [
    "train_nonull.info()"
   ]
  },
  {
   "cell_type": "code",
   "execution_count": 85,
   "metadata": {},
   "outputs": [
    {
     "name": "stdout",
     "output_type": "stream",
     "text": [
      "<class 'pandas.core.frame.DataFrame'>\n",
      "Int64Index: 37500 entries, 56958 to 111909\n",
      "Data columns (total 11 columns):\n",
      " #   Column                                       Non-Null Count  Dtype  \n",
      "---  ------                                       --------------  -----  \n",
      " 0   serious_dlqin2yrs                            37500 non-null  int64  \n",
      " 1   revolving_utilization_of_unsecured_lines     37500 non-null  float64\n",
      " 2   age                                          37500 non-null  int64  \n",
      " 3   number_of_time30-59_days_past_due_not_worse  37500 non-null  int64  \n",
      " 4   debt_ratio                                   37500 non-null  float64\n",
      " 5   monthly_income                               37500 non-null  float64\n",
      " 6   number_of_open_credit_lines_and_loans        37500 non-null  int64  \n",
      " 7   number_of_times90_days_late                  37500 non-null  int64  \n",
      " 8   number_real_estate_loans_or_lines            37500 non-null  int64  \n",
      " 9   number_of_time60-89_days_past_due_not_worse  37500 non-null  int64  \n",
      " 10  number_of_dependents                         37500 non-null  float64\n",
      "dtypes: float64(4), int64(7)\n",
      "memory usage: 3.4 MB\n"
     ]
    }
   ],
   "source": [
    "test_nonull.info()"
   ]
  },
  {
   "cell_type": "markdown",
   "metadata": {},
   "source": [
    "\n",
    "In this part, we randomly split the original dataset into training (75%) and testing dataset (25%) in order to perform the model training and predicting. Furthermore, we perform data cleaning for both subsets. We found that the dataset has NULL value in monthly income column, so we use regression algorithm, more specifictly, random forest to predict the null monthly value by inmputing \"number real estate loans or lines\" and \"number of open credit lines and loans\".\n",
    "\n",
    "In the previous code section, the basic information of 'train_data' and 'test_data' has been shown. The 'train_data' has 112500 rows for each attributes, and for attribute 'monthly_income' it has 90231 non-null rows. For 'test_data', it has 37500 rows in total and 30038 rows for attribute 'monthly_income' with non-null values.\n",
    "\n",
    "After implemented model and predicted the value, the predicted value has been added into the original dataset and outputed as a new csv file. By observing the information of the two new datasets with no null values, we can found that the attribute 'momthly_income' now has the same (full) number of rows compared to other attributes."
   ]
  },
  {
   "cell_type": "markdown",
   "metadata": {},
   "source": [
    "# Credit risk:\n",
    "## In this second part of this exercise, you must determine whether you will give a loan to a client based on his/her default history using the variable serious_dlqin2yrs (serious delinquency rate 2 years: 1 defaults, 0 otherwise).\n",
    "\n",
    "## 3. Using only the credit-data-trainingset.csv data, you must compare the accuracy of the following algorithms using cross-validation (cross_val_score) and select the algorithm with the highest accuracy:\n",
    "\n",
    "## 3.1.- Logistic regression (sklearn.linear_model.LogisticRegression) using penalty (regularization) L2 "
   ]
  },
  {
   "cell_type": "code",
   "execution_count": 95,
   "metadata": {},
   "outputs": [],
   "source": [
    "from sklearn.linear_model import LogisticRegression\n",
    "import pandas as pd\n",
    "# Use logistic regression with penalty L2 to train the model and calculate the accuracy #\n",
    "## Input the training data from the csv file\n",
    "train_data = pd.read_csv('./credit-data-trainingset.csv')\n",
    "## Split the training data into X and Y, where Y should be serious_dlqin2yrs and X is the remaining useful attributes\n",
    "X_train = train_data.drop([\"Unnamed: 0\", \"serious_dlqin2yrs\"], axis=1)\n",
    "Y_train = train_data[\"serious_dlqin2yrs\"]"
   ]
  },
  {
   "cell_type": "code",
   "execution_count": 96,
   "metadata": {},
   "outputs": [],
   "source": [
    "## Initialise logistic regression model with L2 penalty\n",
    "model_lg = LogisticRegression(penalty='l2', solver='liblinear')"
   ]
  },
  {
   "cell_type": "markdown",
   "metadata": {},
   "source": [
    "## 3.2.- SVM (sklearn.svm.LinearSVC) using penalty (regularization) L2 "
   ]
  },
  {
   "cell_type": "code",
   "execution_count": 97,
   "metadata": {},
   "outputs": [],
   "source": [
    "from sklearn.svm import LinearSVC\n",
    "## Initialise SVM model with L2 penalty\n",
    "model_svm = LinearSVC(penalty='l2', dual=False, max_iter=1000)"
   ]
  },
  {
   "cell_type": "markdown",
   "metadata": {},
   "source": [
    "## 3.3.- Neural networks"
   ]
  },
  {
   "cell_type": "code",
   "execution_count": 99,
   "metadata": {},
   "outputs": [],
   "source": [
    "from sklearn.neural_network import MLPClassifier\n",
    "## Initialise Neural Network model\n",
    "### Two layers, with relu and adam optimizer\n",
    "# model_nn = MLPClassifier(hidden_layer_sizes=(100,), activation='relu', solver='sgd', max_iter=1000)\n",
    "model_nn = MLPClassifier(hidden_layer_sizes=(100,), activation='relu', solver='adam', max_iter=1000)"
   ]
  },
  {
   "cell_type": "markdown",
   "metadata": {},
   "source": [
    "## 4. Use the best model and select the best parameters using grid search (GridSearchCV)."
   ]
  },
  {
   "cell_type": "code",
   "execution_count": 100,
   "metadata": {},
   "outputs": [],
   "source": [
    "from sklearn.model_selection import cross_val_score\n",
    "# Select best model by using cross-validation\n",
    "## Implement cross-validation\n",
    "model_lg_score = cross_val_score(model_lg, X_train, Y_train, cv=5, scoring='accuracy')\n",
    "model_svm_score = cross_val_score(model_svm, X_train, Y_train, cv=5, scoring='accuracy')\n",
    "model_nn_score = cross_val_score(model_nn, X_train, Y_train, cv=5, scoring='accuracy')"
   ]
  },
  {
   "cell_type": "code",
   "execution_count": 101,
   "metadata": {},
   "outputs": [],
   "source": [
    "## Calculate the mean accuracy for each model\n",
    "lg_mean = model_lg_score.mean()\n",
    "svm_mean = model_svm_score.mean()\n",
    "nn_mean = model_nn_score.mean()"
   ]
  },
  {
   "cell_type": "code",
   "execution_count": 105,
   "metadata": {},
   "outputs": [
    {
     "name": "stdout",
     "output_type": "stream",
     "text": [
      "Mean accuracy of Logistic Regression: 0.9336088888888888\n",
      "Mean accuracy of SVM: 0.9335555555555555\n",
      "Mean accuracy of Neural Network: 0.7979555555555555\n",
      "Logistic Regression has the highest mean accuracy.\n"
     ]
    }
   ],
   "source": [
    "print(f\"Mean accuracy of Logistic Regression: {lg_mean}\")\n",
    "print(f\"Mean accuracy of SVM: {svm_mean}\")\n",
    "print(f\"Mean accuracy of Neural Network: {nn_mean}\")\n",
    "max_accuracy = max(lg_mean, svm_mean, nn_mean)\n",
    "\n",
    "if max_accuracy == lg_mean:\n",
    "    print(\"Logistic Regression has the highest mean accuracy.\")\n",
    "elif max_accuracy == svm_mean:\n",
    "    print(\"SVM has the highest mean accuracy.\")\n",
    "else:\n",
    "    print(\"Neural Network has the highest mean accuracy.\")"
   ]
  },
  {
   "cell_type": "code",
   "execution_count": 66,
   "metadata": {},
   "outputs": [
    {
     "name": "stdout",
     "output_type": "stream",
     "text": [
      "Fitting 5 folds for each of 480 candidates, totalling 2400 fits\n"
     ]
    },
    {
     "name": "stderr",
     "output_type": "stream",
     "text": [
      "D:\\anaconda3\\lib\\site-packages\\sklearn\\model_selection\\_validation.py:372: FitFailedWarning: \n",
      "1300 fits failed out of a total of 2400.\n",
      "The score on these train-test partitions for these parameters will be set to nan.\n",
      "If these failures are not expected, you can try to debug them by setting error_score='raise'.\n",
      "\n",
      "Below are more details about the failures:\n",
      "--------------------------------------------------------------------------------\n",
      "100 fits failed with the following error:\n",
      "Traceback (most recent call last):\n",
      "  File \"D:\\anaconda3\\lib\\site-packages\\sklearn\\model_selection\\_validation.py\", line 680, in _fit_and_score\n",
      "    estimator.fit(X_train, y_train, **fit_params)\n",
      "  File \"D:\\anaconda3\\lib\\site-packages\\sklearn\\linear_model\\_logistic.py\", line 1461, in fit\n",
      "    solver = _check_solver(self.solver, self.penalty, self.dual)\n",
      "  File \"D:\\anaconda3\\lib\\site-packages\\sklearn\\linear_model\\_logistic.py\", line 447, in _check_solver\n",
      "    raise ValueError(\n",
      "ValueError: Solver newton-cg supports only 'l2' or 'none' penalties, got l1 penalty.\n",
      "\n",
      "--------------------------------------------------------------------------------\n",
      "100 fits failed with the following error:\n",
      "Traceback (most recent call last):\n",
      "  File \"D:\\anaconda3\\lib\\site-packages\\sklearn\\model_selection\\_validation.py\", line 680, in _fit_and_score\n",
      "    estimator.fit(X_train, y_train, **fit_params)\n",
      "  File \"D:\\anaconda3\\lib\\site-packages\\sklearn\\linear_model\\_logistic.py\", line 1461, in fit\n",
      "    solver = _check_solver(self.solver, self.penalty, self.dual)\n",
      "  File \"D:\\anaconda3\\lib\\site-packages\\sklearn\\linear_model\\_logistic.py\", line 447, in _check_solver\n",
      "    raise ValueError(\n",
      "ValueError: Solver lbfgs supports only 'l2' or 'none' penalties, got l1 penalty.\n",
      "\n",
      "--------------------------------------------------------------------------------\n",
      "100 fits failed with the following error:\n",
      "Traceback (most recent call last):\n",
      "  File \"D:\\anaconda3\\lib\\site-packages\\sklearn\\model_selection\\_validation.py\", line 680, in _fit_and_score\n",
      "    estimator.fit(X_train, y_train, **fit_params)\n",
      "  File \"D:\\anaconda3\\lib\\site-packages\\sklearn\\linear_model\\_logistic.py\", line 1461, in fit\n",
      "    solver = _check_solver(self.solver, self.penalty, self.dual)\n",
      "  File \"D:\\anaconda3\\lib\\site-packages\\sklearn\\linear_model\\_logistic.py\", line 447, in _check_solver\n",
      "    raise ValueError(\n",
      "ValueError: Solver sag supports only 'l2' or 'none' penalties, got l1 penalty.\n",
      "\n",
      "--------------------------------------------------------------------------------\n",
      "400 fits failed with the following error:\n",
      "Traceback (most recent call last):\n",
      "  File \"D:\\anaconda3\\lib\\site-packages\\sklearn\\model_selection\\_validation.py\", line 680, in _fit_and_score\n",
      "    estimator.fit(X_train, y_train, **fit_params)\n",
      "  File \"D:\\anaconda3\\lib\\site-packages\\sklearn\\linear_model\\_logistic.py\", line 1461, in fit\n",
      "    solver = _check_solver(self.solver, self.penalty, self.dual)\n",
      "  File \"D:\\anaconda3\\lib\\site-packages\\sklearn\\linear_model\\_logistic.py\", line 434, in _check_solver\n",
      "    raise ValueError(\n",
      "ValueError: Logistic Regression supports only solvers in ['liblinear', 'newton-cg', 'lbfgs', 'sag', 'saga'], got none.\n",
      "\n",
      "--------------------------------------------------------------------------------\n",
      "100 fits failed with the following error:\n",
      "Traceback (most recent call last):\n",
      "  File \"D:\\anaconda3\\lib\\site-packages\\sklearn\\model_selection\\_validation.py\", line 680, in _fit_and_score\n",
      "    estimator.fit(X_train, y_train, **fit_params)\n",
      "  File \"D:\\anaconda3\\lib\\site-packages\\sklearn\\linear_model\\_logistic.py\", line 1461, in fit\n",
      "    solver = _check_solver(self.solver, self.penalty, self.dual)\n",
      "  File \"D:\\anaconda3\\lib\\site-packages\\sklearn\\linear_model\\_logistic.py\", line 447, in _check_solver\n",
      "    raise ValueError(\n",
      "ValueError: Solver newton-cg supports only 'l2' or 'none' penalties, got elasticnet penalty.\n",
      "\n",
      "--------------------------------------------------------------------------------\n",
      "100 fits failed with the following error:\n",
      "Traceback (most recent call last):\n",
      "  File \"D:\\anaconda3\\lib\\site-packages\\sklearn\\model_selection\\_validation.py\", line 680, in _fit_and_score\n",
      "    estimator.fit(X_train, y_train, **fit_params)\n",
      "  File \"D:\\anaconda3\\lib\\site-packages\\sklearn\\linear_model\\_logistic.py\", line 1461, in fit\n",
      "    solver = _check_solver(self.solver, self.penalty, self.dual)\n",
      "  File \"D:\\anaconda3\\lib\\site-packages\\sklearn\\linear_model\\_logistic.py\", line 447, in _check_solver\n",
      "    raise ValueError(\n",
      "ValueError: Solver lbfgs supports only 'l2' or 'none' penalties, got elasticnet penalty.\n",
      "\n",
      "--------------------------------------------------------------------------------\n",
      "100 fits failed with the following error:\n",
      "Traceback (most recent call last):\n",
      "  File \"D:\\anaconda3\\lib\\site-packages\\sklearn\\model_selection\\_validation.py\", line 680, in _fit_and_score\n",
      "    estimator.fit(X_train, y_train, **fit_params)\n",
      "  File \"D:\\anaconda3\\lib\\site-packages\\sklearn\\linear_model\\_logistic.py\", line 1461, in fit\n",
      "    solver = _check_solver(self.solver, self.penalty, self.dual)\n",
      "  File \"D:\\anaconda3\\lib\\site-packages\\sklearn\\linear_model\\_logistic.py\", line 457, in _check_solver\n",
      "    raise ValueError(\n",
      "ValueError: Only 'saga' solver supports elasticnet penalty, got solver=liblinear.\n",
      "\n",
      "--------------------------------------------------------------------------------\n",
      "100 fits failed with the following error:\n",
      "Traceback (most recent call last):\n",
      "  File \"D:\\anaconda3\\lib\\site-packages\\sklearn\\model_selection\\_validation.py\", line 680, in _fit_and_score\n",
      "    estimator.fit(X_train, y_train, **fit_params)\n",
      "  File \"D:\\anaconda3\\lib\\site-packages\\sklearn\\linear_model\\_logistic.py\", line 1461, in fit\n",
      "    solver = _check_solver(self.solver, self.penalty, self.dual)\n",
      "  File \"D:\\anaconda3\\lib\\site-packages\\sklearn\\linear_model\\_logistic.py\", line 447, in _check_solver\n",
      "    raise ValueError(\n",
      "ValueError: Solver sag supports only 'l2' or 'none' penalties, got elasticnet penalty.\n",
      "\n",
      "--------------------------------------------------------------------------------\n",
      "100 fits failed with the following error:\n",
      "Traceback (most recent call last):\n",
      "  File \"D:\\anaconda3\\lib\\site-packages\\sklearn\\model_selection\\_validation.py\", line 680, in _fit_and_score\n",
      "    estimator.fit(X_train, y_train, **fit_params)\n",
      "  File \"D:\\anaconda3\\lib\\site-packages\\sklearn\\linear_model\\_logistic.py\", line 1471, in fit\n",
      "    raise ValueError(\n",
      "ValueError: l1_ratio must be between 0 and 1; got (l1_ratio=None)\n",
      "\n",
      "--------------------------------------------------------------------------------\n",
      "100 fits failed with the following error:\n",
      "Traceback (most recent call last):\n",
      "  File \"D:\\anaconda3\\lib\\site-packages\\sklearn\\model_selection\\_validation.py\", line 680, in _fit_and_score\n",
      "    estimator.fit(X_train, y_train, **fit_params)\n",
      "  File \"D:\\anaconda3\\lib\\site-packages\\sklearn\\linear_model\\_logistic.py\", line 1461, in fit\n",
      "    solver = _check_solver(self.solver, self.penalty, self.dual)\n",
      "  File \"D:\\anaconda3\\lib\\site-packages\\sklearn\\linear_model\\_logistic.py\", line 464, in _check_solver\n",
      "    raise ValueError(\"penalty='none' is not supported for the liblinear solver\")\n",
      "ValueError: penalty='none' is not supported for the liblinear solver\n",
      "\n",
      "  warnings.warn(some_fits_failed_message, FitFailedWarning)\n",
      "D:\\anaconda3\\lib\\site-packages\\sklearn\\model_selection\\_search.py:969: UserWarning: One or more of the test scores are non-finite: [       nan        nan 0.93343111        nan 0.93332444        nan\n",
      " 0.93341333 0.93330667 0.93335111 0.93332444 0.93332444        nan\n",
      "        nan        nan        nan        nan        nan        nan\n",
      " 0.93395556 0.93336           nan 0.93332444 0.93332444        nan\n",
      "        nan        nan 0.93341333        nan 0.93332444        nan\n",
      " 0.93375111 0.93339556 0.93339556 0.93332444 0.93332444        nan\n",
      "        nan        nan        nan        nan        nan        nan\n",
      " 0.93395556 0.93336           nan 0.93332444 0.93332444        nan\n",
      "        nan        nan 0.93348444        nan 0.93332444        nan\n",
      " 0.93388444 0.93342222 0.93379556 0.93332444 0.93332444        nan\n",
      "        nan        nan        nan        nan        nan        nan\n",
      " 0.93395556 0.93336           nan 0.93332444 0.93332444        nan\n",
      "        nan        nan 0.93356444        nan 0.93332444        nan\n",
      " 0.93389333 0.93330667 0.93350222 0.93332444 0.93332444        nan\n",
      "        nan        nan        nan        nan        nan        nan\n",
      " 0.93395556 0.93336           nan 0.93332444 0.93332444        nan\n",
      "        nan        nan 0.9336            nan 0.93332444        nan\n",
      " 0.93389333 0.93328889 0.93361778 0.93332444 0.93332444        nan\n",
      "        nan        nan        nan        nan        nan        nan\n",
      " 0.93395556 0.93336           nan 0.93332444 0.93332444        nan\n",
      "        nan        nan 0.93365333        nan 0.93332444        nan\n",
      " 0.93392889 0.93340444 0.93376    0.93332444 0.93332444        nan\n",
      "        nan        nan        nan        nan        nan        nan\n",
      " 0.93395556 0.93336           nan 0.93332444 0.93332444        nan\n",
      "        nan        nan 0.93376889        nan 0.93332444        nan\n",
      " 0.93397333 0.93344    0.93384889 0.93332444 0.93332444        nan\n",
      "        nan        nan        nan        nan        nan        nan\n",
      " 0.93395556 0.93336           nan 0.93332444 0.93332444        nan\n",
      "        nan        nan 0.93362667        nan 0.93332444        nan\n",
      " 0.93398222 0.93340444 0.93390222 0.93332444 0.93332444        nan\n",
      "        nan        nan        nan        nan        nan        nan\n",
      " 0.93395556 0.93336           nan 0.93332444 0.93332444        nan\n",
      "        nan        nan 0.93369778        nan 0.93332444        nan\n",
      " 0.93396444 0.93340444 0.93387556 0.93332444 0.93332444        nan\n",
      "        nan        nan        nan        nan        nan        nan\n",
      " 0.93395556 0.93336           nan 0.93332444 0.93332444        nan\n",
      "        nan        nan 0.93383111        nan 0.93332444        nan\n",
      " 0.93397333 0.93343111 0.93340444 0.93332444 0.93332444        nan\n",
      "        nan        nan        nan        nan        nan        nan\n",
      " 0.93395556 0.93336           nan 0.93332444 0.93332444        nan\n",
      "        nan        nan 0.93384889        nan 0.93332444        nan\n",
      " 0.93393778 0.93344    0.93345778 0.93332444 0.93332444        nan\n",
      "        nan        nan        nan        nan        nan        nan\n",
      " 0.93395556 0.93336           nan 0.93332444 0.93332444        nan\n",
      "        nan        nan 0.93381333        nan 0.93332444        nan\n",
      " 0.93396444 0.93337778 0.93394667 0.93332444 0.93332444        nan\n",
      "        nan        nan        nan        nan        nan        nan\n",
      " 0.93395556 0.93336           nan 0.93332444 0.93332444        nan\n",
      "        nan        nan 0.93378667        nan 0.93332444        nan\n",
      " 0.93394667 0.93339556 0.93380444 0.93332444 0.93332444        nan\n",
      "        nan        nan        nan        nan        nan        nan\n",
      " 0.93395556 0.93336           nan 0.93332444 0.93332444        nan\n",
      "        nan        nan 0.93377778        nan 0.93332444        nan\n",
      " 0.93394667 0.93340444 0.93360889 0.93332444 0.93332444        nan\n",
      "        nan        nan        nan        nan        nan        nan\n",
      " 0.93395556 0.93336           nan 0.93332444 0.93332444        nan\n",
      "        nan        nan 0.93382222        nan 0.93332444        nan\n",
      " 0.93395556 0.93342222 0.93364444 0.93332444 0.93332444        nan\n",
      "        nan        nan        nan        nan        nan        nan\n",
      " 0.93395556 0.93336           nan 0.93332444 0.93332444        nan\n",
      "        nan        nan 0.93376           nan 0.93332444        nan\n",
      " 0.93395556 0.93338667 0.93343111 0.93332444 0.93332444        nan\n",
      "        nan        nan        nan        nan        nan        nan\n",
      " 0.93395556 0.93336           nan 0.93332444 0.93332444        nan\n",
      "        nan        nan 0.93368           nan 0.93332444        nan\n",
      " 0.93395556 0.93342222 0.93343111 0.93332444 0.93332444        nan\n",
      "        nan        nan        nan        nan        nan        nan\n",
      " 0.93395556 0.93336           nan 0.93332444 0.93332444        nan\n",
      "        nan        nan 0.93365333        nan 0.93332444        nan\n",
      " 0.93395556 0.93335111 0.93373333 0.93332444 0.93332444        nan\n",
      "        nan        nan        nan        nan        nan        nan\n",
      " 0.93395556 0.93336           nan 0.93332444 0.93332444        nan\n",
      "        nan        nan 0.93373333        nan 0.93332444        nan\n",
      " 0.93395556 0.93340444 0.93387556 0.93332444 0.93332444        nan\n",
      "        nan        nan        nan        nan        nan        nan\n",
      " 0.93395556 0.93336           nan 0.93332444 0.93332444        nan\n",
      "        nan        nan 0.93375111        nan 0.93332444        nan\n",
      " 0.93395556 0.93335111 0.93384    0.93332444 0.93332444        nan\n",
      "        nan        nan        nan        nan        nan        nan\n",
      " 0.93395556 0.93336           nan 0.93332444 0.93332444        nan]\n",
      "  warnings.warn(\n"
     ]
    },
    {
     "data": {
      "text/plain": [
       "GridSearchCV(cv=5, estimator=LogisticRegression(), n_jobs=-1,\n",
       "             param_grid={'C': [0.001, 0.004, 0.007, 0.01, 0.02, 0.03, 0.04,\n",
       "                               0.05, 0.06, 0.07, 0.1, 0.4, 0.7, 1, 4, 7, 10, 40,\n",
       "                               70, 100],\n",
       "                         'penalty': ['l1', 'l2', 'elasticnet', 'none'],\n",
       "                         'solver': ['newton-cg', 'lbfgs', 'liblinear', 'sag',\n",
       "                                    'saga', 'none']},\n",
       "             scoring='accuracy', verbose=2)"
      ]
     },
     "execution_count": 66,
     "metadata": {},
     "output_type": "execute_result"
    }
   ],
   "source": [
    "import numpy as np\n",
    "from sklearn.model_selection import GridSearchCV\n",
    "\n",
    "# Use Grid Search to find the optimal parameter for the best model #\n",
    "## Define parameter grid\n",
    "param_grid = {\n",
    "    'penalty': ['l1', 'l2', 'elasticnet', 'none'],\n",
    "    'C': [0.001, 0.004, 0.007, 0.01, 0.02, 0.03, 0.04, 0.05, 0.06, 0.07, 0.1, 0.4, 0.7, 1, 4, 7, 10, 40, 70, 100],\n",
    "    'solver': ['newton-cg', 'lbfgs', 'liblinear', 'sag', 'saga', 'none']\n",
    "}\n",
    "## Create the base model of lg\n",
    "model_lg = LogisticRegression()\n",
    "## Implement grid search\n",
    "grid_search = GridSearchCV(estimator=model_lg, param_grid=param_grid, cv=5, scoring='accuracy', verbose=2, n_jobs=-1)\n",
    "## Run grid search\n",
    "grid_search.fit(X_train, Y_train)"
   ]
  },
  {
   "cell_type": "code",
   "execution_count": 67,
   "metadata": {},
   "outputs": [
    {
     "name": "stdout",
     "output_type": "stream",
     "text": [
      "Best parameters:  {'C': 0.05, 'penalty': 'l2', 'solver': 'newton-cg'}\n",
      "Best score:  0.9339822222222223\n"
     ]
    }
   ],
   "source": [
    "# Check out the best parameters\n",
    "best_params = grid_search.best_params_\n",
    "print(\"Best parameters: \", best_params)\n",
    "# Check out the best score\n",
    "best_score = grid_search.best_score_\n",
    "print(\"Best score: \", best_score)"
   ]
  },
  {
   "cell_type": "markdown",
   "metadata": {},
   "source": [
    "## 5. Train your best model with the training dataset (credit-data-trainingset.csv)."
   ]
  },
  {
   "cell_type": "code",
   "execution_count": 68,
   "metadata": {},
   "outputs": [
    {
     "data": {
      "text/plain": [
       "LogisticRegression(C=0.05, solver='newton-cg')"
      ]
     },
     "execution_count": 68,
     "metadata": {},
     "output_type": "execute_result"
    }
   ],
   "source": [
    "## Create lg model with the best parameters from grid search\n",
    "opt_model_lg = LogisticRegression(**best_params)\n",
    "## Train the model\n",
    "opt_model_lg.fit(X_train, Y_train)"
   ]
  },
  {
   "cell_type": "markdown",
   "metadata": {},
   "source": [
    "## 6. Test your model using the test dataset (credit-data-testset.csv) and show its accuracy."
   ]
  },
  {
   "cell_type": "code",
   "execution_count": 72,
   "metadata": {},
   "outputs": [
    {
     "name": "stdout",
     "output_type": "stream",
     "text": [
      "Test Accuracy: 93.36%\n"
     ]
    }
   ],
   "source": [
    "from sklearn.metrics import accuracy_score\n",
    "## Input the test dataset\n",
    "test_data = pd.read_csv('./credit-data-testset.csv')\n",
    "## Split the training data into X and Y, where Y should be serious_dlqin2yrs and X is the remaining useful attributes\n",
    "X_test = test_data.drop([\"Unnamed: 0\", \"serious_dlqin2yrs\"], axis=1)\n",
    "Y_test = test_data[\"serious_dlqin2yrs\"]\n",
    "## Predict the value on test set\n",
    "Y_pred = opt_model_lg.predict(X_test)\n",
    "## Calculate the accuracy\n",
    "accuracy = accuracy_score(Y_test, Y_pred)\n",
    "print(f'Test Accuracy: {accuracy * 100:.2f}%')"
   ]
  },
  {
   "cell_type": "markdown",
   "metadata": {},
   "source": [
    "## 7. Build the ROC (include the area under the ROC curve), the cumulative response and lift curves for the 3 algorithms mentioned above. Discuss your results comparing the 3 algorithms."
   ]
  },
  {
   "cell_type": "code",
   "execution_count": 107,
   "metadata": {},
   "outputs": [
    {
     "data": {
      "text/plain": [
       "MLPClassifier(max_iter=1000)"
      ]
     },
     "execution_count": 107,
     "metadata": {},
     "output_type": "execute_result"
    }
   ],
   "source": [
    "model_svm.fit(X_train, Y_train)\n",
    "model_nn.fit(X_train, Y_train)"
   ]
  },
  {
   "cell_type": "code",
   "execution_count": 140,
   "metadata": {},
   "outputs": [
    {
     "data": {
      "image/png": "[encoded data removed]",
      "text/plain": [
       "<Figure size 640x480 with 1 Axes>"
      ]
     },
     "metadata": {},
     "output_type": "display_data"
    }
   ],
   "source": [
    "import matplotlib.pyplot as plt\n",
    "from sklearn.metrics import roc_curve, roc_auc_score, auc\n",
    "\n",
    "# Plot ROC Curve #\n",
    "models = [opt_model_lg, model_svm, model_nn]\n",
    "names = ['Logistic Regression', 'SVM', 'Neural Network']\n",
    "\n",
    "for model, name in zip(models, names):\n",
    "    if name == 'SVM':\n",
    "        ## For SVM, get the distance of the samples to the hyperplane\n",
    "        y_score = model.decision_function(X_test)\n",
    "    else:\n",
    "        ## Calculate prediction probabilities\n",
    "        y_score = model.predict_proba(X_test)[:, 1]\n",
    "    ## Compute ROC curve and AUC\n",
    "    fpr, tpr, _ = roc_curve(Y_test, y_score)\n",
    "    roc_auc = auc(fpr, tpr)\n",
    "    plt.plot(fpr, tpr, label=f'{name} (area = {roc_auc:.4f})')\n",
    "## Plot random seleciton ROC as the baseline\n",
    "plt.plot([0, 1], [0, 1], 'k--', label='Random')\n",
    "plt.xlim([0.0, 1.0])\n",
    "plt.ylim([0.0, 1.0])\n",
    "plt.xlabel('False Positive Rate (FPR)')\n",
    "plt.ylabel('True Positive Rate (TPR)')\n",
    "plt.title('Receiver Operating Characteristic (ROC) Curve')\n",
    "plt.legend(loc=\"lower right\")\n",
    "plt.show()"
   ]
  },
  {
   "cell_type": "code",
   "execution_count": 145,
   "metadata": {},
   "outputs": [
    {
     "data": {
      "image/png": "[encoded data removed]",
      "text/plain": [
       "<Figure size 640x480 with 1 Axes>"
      ]
     },
     "metadata": {},
     "output_type": "display_data"
    }
   ],
   "source": [
    "# Plot cumulative response curve #\n",
    "def plot_cumulative_response(model, X_test, y_test, label=None):\n",
    "    if hasattr(model, \"predict_proba\"):\n",
    "        probs = model.predict_proba(X_test)[:, 1]\n",
    "    else:\n",
    "        ## If the model not use predict probability function (SVM), then calculate probability use this function\n",
    "        probs = model.decision_function(X_test)\n",
    "    \n",
    "    sorted_indices = np.argsort(probs)[::-1]\n",
    "    sorted_labels = y_test[sorted_indices]\n",
    "    total_positives = np.sum(sorted_labels)\n",
    "    cumulative_positives = np.cumsum(sorted_labels)\n",
    "    cumulative_gain = cumulative_positives / total_positives\n",
    "    x = np.linspace(0, 1, len(cumulative_gain))\n",
    "    plt.plot(x, cumulative_gain, label=label)\n",
    "plot_cumulative_response(opt_model_lg, X_test, Y_test, label='Logistic Regression')\n",
    "plot_cumulative_response(model_svm, X_test, Y_test, label='SVM')\n",
    "plot_cumulative_response(model_nn, X_test, Y_test, label='Neural Network')\n",
    "## Plot the baseline\n",
    "plt.plot([0, 1], [0, 1], 'k--', label='Baseline')\n",
    "plt.xlim([0.0, 1.0])\n",
    "plt.ylim([0.0, 1.0])\n",
    "plt.xlabel('Percentage targeted')\n",
    "plt.ylabel('Cumulative Gain')\n",
    "plt.title('Cumulative Response Curve')\n",
    "plt.legend(loc=\"lower right\")\n",
    "plt.show()"
   ]
  },
  {
   "cell_type": "code",
   "execution_count": 147,
   "metadata": {},
   "outputs": [
    {
     "data": {
      "image/png": "[encoded data removed]",
      "text/plain": [
       "<Figure size 640x480 with 1 Axes>"
      ]
     },
     "metadata": {},
     "output_type": "display_data"
    }
   ],
   "source": [
    "def plot_lift_curve(model, X_test, y_test, label=None):\n",
    "    if hasattr(model, \"predict_proba\"):\n",
    "        probs = model.predict_proba(X_test)[:, 1]\n",
    "    else:\n",
    "        ## If the model not use predict probability function (SVM), then calculate probability use this function\n",
    "        probs = model.decision_function(X_test)\n",
    "    sorted_indices = np.argsort(probs)[::-1]\n",
    "    sorted_labels = y_test[sorted_indices]\n",
    "    num_samples = len(sorted_labels)\n",
    "    num_positives = np.sum(sorted_labels)\n",
    "    cumulative_positives = np.cumsum(sorted_labels)\n",
    "    lift = cumulative_positives / num_positives\n",
    "    cumulative_percentage = np.arange(1, num_samples + 1) / num_samples\n",
    "    lift =  lift / cumulative_percentage\n",
    "    x = np.linspace(0, 100, len(lift))\n",
    "    plt.plot(x, lift, label=label)\n",
    "plot_lift_curve(opt_model_lg, X_test, Y_test, label='Logistic Regression')\n",
    "plot_lift_curve(model_svm, X_test, Y_test, label='SVM')\n",
    "plot_lift_curve(model_nn, X_test, Y_test, label='Neural Network')\n",
    "plt.xlabel('Percentage of Samples')\n",
    "plt.ylabel('Lift')\n",
    "plt.title('Lift Curve')\n",
    "plt.legend()\n",
    "plt.show()"
   ]
  },
  {
   "cell_type": "markdown",
   "metadata": {},
   "source": [
    "## Report for Credit Risk"
   ]
  },
  {
   "cell_type": "markdown",
   "metadata": {},
   "source": [
    "In this part, we implemented three models: Logistic regression, SVM and neural network to predict whether give a loan to a client or not. Then, using cross validation to determine the best model and use grid search to search the best parameter set for the best model. After that, the best model with the best parameter set has been fit and tested by the test dataset, the accuracy has been outputed. Finally, the ROC curve, culumulative response curve and lift curve for the three models has been plotted.\n",
    "\n",
    "From the implementation, the logistic regression has the best performance compared two other two models, then use grid search found the optimal parameter set {'C': 0.05, 'penalty': 'l2', 'solver': 'newton-cg'}. The model has 93.40% of accuracy under the optimal parameter set. The ROC curve, culumulative response curve and lift curve for the three models has been successfully plotted, the analysis of the performance of three models regarding to these curves are below.\n",
    "\n",
    "The ROC curve is formed by connecting the True Positive Rate (TPR) and False Positive Rate(FPR) at different thresholds with the FPR as the horizontal coordinate and the TPR as the vertical coordinate. The threshold value is the one used to determine whether the predicted result is in the positive or negative category. The AUC (Area Under the ROC Curve), which is the area under the ROC curve, eliminates the effect of threshold selection and can better reflect the performance of the model.In general, the closer the ROC curve is to the upper left corner, the better the performance of the model; and the larger the AUC value, the better the performance of the model. In the plot generated above, all of the three models' ROC curve are on the upper left side, which means that models are more effective than random selection (the baseline). The AUC of logistic regression and SVM are so close, but there still some difference of performance between them. The SVM has the better TPR for the threshold FPR under 50%, while the logistic regression has better performance when the threshold FPR over 50%. Noticed that the SVM and logistic regression both have bad performance when FPR above round 90%-95%, which is worse than random selection. The neural network has the worst performance compared with other models. However, the performance of neural network is never worse than random selection, even is the best when FPR is over around 90%. \n",
    "\n",
    "The cumulative response curve mainly shows the cumulative percentage of the true target sample among the top x% of the sample after sorting the model prediction results from highest to lowest. In general, the cumulative response curve should has more gradient which can be seen as has the better performance. Also, close to upper left corner also shows the better performance. The generated cumulative response curve is highly similar with the ROC curve. The reason of it may that the dataset has a relatively even distribution of positive and negative cases or model yields relatively even probability scores when differentiating between positive and negative cases. The result of the curve is similar to ROC curve. The logistic regression and SVM has the best performance, while the SVM has the larger gradient on the fist half percentage (0%-50%) and the logistic regression has advantage in later half (50%-100%). The neural network has generally worst performance but it has the largest gradient when the percentage is above 95%.\n",
    "\n",
    "Lift can be interpreted as the degree of improvement in the model prediction results relative to random selection. When the percentage of samples is low, which means the most possible samples are selected, the lift should be the largest, and decrese with the percentage of samples increases. The lift value is the time that the model is better than random selection. From the curve can analysis that, the logistic regression and SVM still have the best performance. However, the logistic regression has the largest peak and it is much higher than SVM's. The logistic regression is almost 12 times better than random seleciton when the samples percentage is small (below 5%). After that, both models have similar drop rates and have similar values at lift. The neural network has the worst performance, but it has the most smooth drop rate.\n",
    "\n",
    "In general, the logistic regression and SVM has the best and similar performance resulting from the three graphs. However, the logistic regression is better since it has the smooth and high curve in ROC and cumulative response, and has the highest peak in lift curve. The neural network has the poor performance. The result that conclude from curves is also same as the result from the cross validation process."
   ]
  },
  {
   "cell_type": "code",
   "execution_count": null,
   "metadata": {},
   "outputs": [],
   "source": []
  }
 ],
 "metadata": {
  "anaconda-cloud": "",
  "kernelspec": {
   "display_name": "Python 3 (ipykernel)",
   "language": "python",
   "name": "python3"
  },
  "language_info": {
   "codemirror_mode": {
    "name": "ipython",
    "version": 3
   },
   "file_extension": ".py",
   "mimetype": "text/x-python",
   "name": "python",
   "nbconvert_exporter": "python",
   "pygments_lexer": "ipython3",
   "version": "3.9.13"
  }
 },
 "nbformat": 4,
 "nbformat_minor": 1
}
